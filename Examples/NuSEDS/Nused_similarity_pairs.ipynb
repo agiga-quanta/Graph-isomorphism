{
  "cells": [
    {
      "cell_type": "code",
      "execution_count": null,
      "metadata": {
        "id": "2lQeEpanDNAs"
      },
      "outputs": [],
      "source": [
        "pip install sentence-transformers"
      ]
    },
    {
      "cell_type": "code",
      "execution_count": null,
      "metadata": {
        "id": "YhIe5IayBRQA"
      },
      "outputs": [],
      "source": [
        "# Allowing colab to access your google drive, as well as reading and writing in it.\n",
        "from google.colab import drive\n",
        "drive.mount(\"/content/drive\")"
      ]
    },
    {
      "cell_type": "code",
      "execution_count": null,
      "metadata": {
        "id": "LdhZXvmXDMiy"
      },
      "outputs": [],
      "source": [
        "cd drive/MyDrive/TIS"
      ]
    },
    {
      "cell_type": "code",
      "execution_count": null,
      "metadata": {
        "id": "FnKgwY5UDgv1"
      },
      "outputs": [],
      "source": [
        "# Using the same model as example 1 and 2. Our data is saved in a tsv file\n",
        "# The tsv file is made by copying the \"Comments\" column into an excel sheet and export it as a tsv file\n",
        "from sentence_transformers import SentenceTransformer, util;\n",
        "import pandas as pd;\n",
        "model = SentenceTransformer('all-MiniLM-L6-v2')\n",
        "data_df = pd.read_csv('NuSeds test.tsv', sep='\\t')"
      ]
    },
    {
      "cell_type": "code",
      "execution_count": 12,
      "metadata": {
        "id": "Ob8kTPa4DOqk"
      },
      "outputs": [],
      "source": [
        "#Getting comments list without empty space and identical comments\n",
        "comments_list = [*set(data_df.Comments.tolist())]\n",
        "#print(len(comments_list))"
      ]
    },
    {
      "cell_type": "code",
      "execution_count": 13,
      "metadata": {
        "id": "xXnWp-4vHA_P"
      },
      "outputs": [],
      "source": [
        "#Removing comments with multiple empty spaces together\n",
        "import re\n",
        "comments_range = range(len(comments_list))\n",
        "for i in comments_range:\n",
        "  comments_list[i] = re.sub(' +', ' ', comments_list[i])\n",
        "\n",
        "#print(len(comments_list))"
      ]
    },
    {
      "cell_type": "code",
      "execution_count": 14,
      "metadata": {
        "id": "gvXNg88MKC3R"
      },
      "outputs": [],
      "source": [
        "#Getting unique list\n",
        "comments_list_unique = [*set(comments_list)]\n",
        "#print(len(comments_list_unique))"
      ]
    },
    {
      "cell_type": "code",
      "execution_count": 15,
      "metadata": {
        "id": "rAQxd0jk7Rnb"
      },
      "outputs": [],
      "source": [
        "#Encode all sentences\n",
        "embeddings = model.encode(comments_list_unique)"
      ]
    },
    {
      "cell_type": "code",
      "execution_count": 16,
      "metadata": {
        "id": "XOvygYxxDmHX"
      },
      "outputs": [],
      "source": [
        "#Compute cosine similarity between all pairs\n",
        "cos_sim = util.cos_sim(embeddings, embeddings)\n",
        "\n",
        "#Add all pairs to a list with their cosine similarity score\n",
        "all_comments_combinations = []\n",
        "for i in range(len(cos_sim)-1):\n",
        "    for j in range(i+1, len(cos_sim)):\n",
        "        all_comments_combinations.append([cos_sim[i][j], i, j])\n",
        "\n",
        "#Sort list by the highest cosine similarity score\n",
        "all_comments_combinations = sorted(all_comments_combinations, key=lambda x: x[0], reverse=True)"
      ]
    },
    {
      "cell_type": "code",
      "execution_count": 22,
      "metadata": {
        "id": "2U7Zo9bECW_F"
      },
      "outputs": [],
      "source": [
        "# Writing our results in txt file due to the massive size.\n",
        "with open('nused_pair_result.txt', 'w') as f:\n",
        "    for score, i, j in all_comments_combinations:\n",
        "        f.write(\"{} | {} | {:.4f}\\n\".format(comments_list_unique[i], comments_list_unique[j], cos_sim[i][j]))"
      ]
    },
    {
      "cell_type": "markdown",
      "metadata": {
        "id": "SHHZ4TADayMX"
      },
      "source": [
        "# New Section"
      ]
    }
  ],
  "metadata": {
    "colab": {
      "provenance": []
    },
    "kernelspec": {
      "display_name": "Python 3",
      "name": "python3"
    },
    "language_info": {
      "name": "python"
    }
  },
  "nbformat": 4,
  "nbformat_minor": 0
}